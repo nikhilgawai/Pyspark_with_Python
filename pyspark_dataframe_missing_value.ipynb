{
 "cells": [
  {
   "cell_type": "code",
   "execution_count": 1,
   "id": "0601cd7d",
   "metadata": {},
   "outputs": [
    {
     "name": "stderr",
     "output_type": "stream",
     "text": [
      "Setting default log level to \"WARN\".\n",
      "To adjust logging level use sc.setLogLevel(newLevel). For SparkR, use setLogLevel(newLevel).\n"
     ]
    },
    {
     "name": "stdout",
     "output_type": "stream",
     "text": [
      "23/01/04 15:53:58 WARN NativeCodeLoader: Unable to load native-hadoop library for your platform... using builtin-java classes where applicable\n",
      "23/01/04 15:53:59 WARN Utils: Service 'SparkUI' could not bind on port 4040. Attempting port 4041.\n",
      "23/01/04 15:53:59 WARN Utils: Service 'SparkUI' could not bind on port 4041. Attempting port 4042.\n"
     ]
    }
   ],
   "source": [
    "from pyspark.sql import SparkSession\n",
    "spark=SparkSession.builder.appName('Practice').getOrCreate()"
   ]
  },
  {
   "cell_type": "code",
   "execution_count": 2,
   "id": "d1694197",
   "metadata": {},
   "outputs": [
    {
     "name": "stdout",
     "output_type": "stream",
     "text": [
      "+----+----+----------+------+\n",
      "|Name| Age|Experience|Salary|\n",
      "+----+----+----------+------+\n",
      "| nik|  28|         5| 15000|\n",
      "|dany|  45|        10| 10000|\n",
      "| piu|  25|         3| 25000|\n",
      "| raj|  22|         4| 12000|\n",
      "| sam|  19|         2| 15200|\n",
      "|tiku|  26|         5| 53000|\n",
      "|sanu|null|      null| 45000|\n",
      "|null|  28|         3| 56000|\n",
      "|null|  35|      null|  null|\n",
      "+----+----+----------+------+\n",
      "\n"
     ]
    }
   ],
   "source": [
    "spark.read.csv('test2.csv',header=True,inferSchema=True).show()"
   ]
  },
  {
   "cell_type": "code",
   "execution_count": 3,
   "id": "c3af8868",
   "metadata": {},
   "outputs": [],
   "source": [
    "df_spark=spark.read.csv('test2.csv',header=True,inferSchema=True)"
   ]
  },
  {
   "cell_type": "code",
   "execution_count": 4,
   "id": "8664011c",
   "metadata": {},
   "outputs": [
    {
     "name": "stdout",
     "output_type": "stream",
     "text": [
      "+----+----+----------+------+\n",
      "|Name| Age|Experience|Salary|\n",
      "+----+----+----------+------+\n",
      "| nik|  28|         5| 15000|\n",
      "|dany|  45|        10| 10000|\n",
      "| piu|  25|         3| 25000|\n",
      "| raj|  22|         4| 12000|\n",
      "| sam|  19|         2| 15200|\n",
      "|tiku|  26|         5| 53000|\n",
      "|sanu|null|      null| 45000|\n",
      "|null|  28|         3| 56000|\n",
      "|null|  35|      null|  null|\n",
      "+----+----+----------+------+\n",
      "\n"
     ]
    }
   ],
   "source": [
    "df_spark.show()"
   ]
  },
  {
   "cell_type": "markdown",
   "id": "38bdcd4c",
   "metadata": {},
   "source": [
    "## Drop the column"
   ]
  },
  {
   "cell_type": "code",
   "execution_count": 5,
   "id": "6fbed34f",
   "metadata": {},
   "outputs": [
    {
     "name": "stdout",
     "output_type": "stream",
     "text": [
      "+----+----------+------+\n",
      "| Age|Experience|Salary|\n",
      "+----+----------+------+\n",
      "|  28|         5| 15000|\n",
      "|  45|        10| 10000|\n",
      "|  25|         3| 25000|\n",
      "|  22|         4| 12000|\n",
      "|  19|         2| 15200|\n",
      "|  26|         5| 53000|\n",
      "|null|      null| 45000|\n",
      "|  28|         3| 56000|\n",
      "|  35|      null|  null|\n",
      "+----+----------+------+\n",
      "\n"
     ]
    }
   ],
   "source": [
    "df_spark.drop('Name').show()"
   ]
  },
  {
   "cell_type": "code",
   "execution_count": 6,
   "id": "2d73b376",
   "metadata": {},
   "outputs": [
    {
     "name": "stdout",
     "output_type": "stream",
     "text": [
      "+----+----+----------+------+\n",
      "|Name| Age|Experience|Salary|\n",
      "+----+----+----------+------+\n",
      "| nik|  28|         5| 15000|\n",
      "|dany|  45|        10| 10000|\n",
      "| piu|  25|         3| 25000|\n",
      "| raj|  22|         4| 12000|\n",
      "| sam|  19|         2| 15200|\n",
      "|tiku|  26|         5| 53000|\n",
      "|sanu|null|      null| 45000|\n",
      "|null|  28|         3| 56000|\n",
      "|null|  35|      null|  null|\n",
      "+----+----+----------+------+\n",
      "\n"
     ]
    }
   ],
   "source": [
    "df_spark.show()"
   ]
  },
  {
   "cell_type": "code",
   "execution_count": 7,
   "id": "8aa8fda7",
   "metadata": {},
   "outputs": [
    {
     "name": "stdout",
     "output_type": "stream",
     "text": [
      "+----+---+----------+------+\n",
      "|Name|Age|Experience|Salary|\n",
      "+----+---+----------+------+\n",
      "| nik| 28|         5| 15000|\n",
      "|dany| 45|        10| 10000|\n",
      "| piu| 25|         3| 25000|\n",
      "| raj| 22|         4| 12000|\n",
      "| sam| 19|         2| 15200|\n",
      "|tiku| 26|         5| 53000|\n",
      "+----+---+----------+------+\n",
      "\n"
     ]
    }
   ],
   "source": [
    "df_spark.na.drop().show()"
   ]
  },
  {
   "cell_type": "code",
   "execution_count": 8,
   "id": "c053dc76",
   "metadata": {},
   "outputs": [
    {
     "name": "stdout",
     "output_type": "stream",
     "text": [
      "+----+---+----------+------+\n",
      "|Name|Age|Experience|Salary|\n",
      "+----+---+----------+------+\n",
      "| nik| 28|         5| 15000|\n",
      "|dany| 45|        10| 10000|\n",
      "| piu| 25|         3| 25000|\n",
      "| raj| 22|         4| 12000|\n",
      "| sam| 19|         2| 15200|\n",
      "|tiku| 26|         5| 53000|\n",
      "+----+---+----------+------+\n",
      "\n"
     ]
    }
   ],
   "source": [
    "### any===how\n",
    "df_spark.na.drop(how='any').show()"
   ]
  },
  {
   "cell_type": "code",
   "execution_count": 9,
   "id": "c3ee7603",
   "metadata": {},
   "outputs": [
    {
     "name": "stdout",
     "output_type": "stream",
     "text": [
      "+----+----+----------+------+\n",
      "|Name| Age|Experience|Salary|\n",
      "+----+----+----------+------+\n",
      "| nik|  28|         5| 15000|\n",
      "|dany|  45|        10| 10000|\n",
      "| piu|  25|         3| 25000|\n",
      "| raj|  22|         4| 12000|\n",
      "| sam|  19|         2| 15200|\n",
      "|tiku|  26|         5| 53000|\n",
      "|sanu|null|      null| 45000|\n",
      "|null|  28|         3| 56000|\n",
      "+----+----+----------+------+\n",
      "\n"
     ]
    }
   ],
   "source": [
    " ### Threshold\n",
    "df_spark.na.drop(how='any',thresh=2).show()"
   ]
  },
  {
   "cell_type": "code",
   "execution_count": 10,
   "id": "88daba53",
   "metadata": {},
   "outputs": [
    {
     "name": "stdout",
     "output_type": "stream",
     "text": [
      "+----+---+----------+------+\n",
      "|Name|Age|Experience|Salary|\n",
      "+----+---+----------+------+\n",
      "| nik| 28|         5| 15000|\n",
      "|dany| 45|        10| 10000|\n",
      "| piu| 25|         3| 25000|\n",
      "| raj| 22|         4| 12000|\n",
      "| sam| 19|         2| 15200|\n",
      "|tiku| 26|         5| 53000|\n",
      "|null| 28|         3| 56000|\n",
      "+----+---+----------+------+\n",
      "\n"
     ]
    }
   ],
   "source": [
    "df_spark.na.drop(how='any',thresh=3).show()"
   ]
  },
  {
   "cell_type": "code",
   "execution_count": 11,
   "id": "6d66936e",
   "metadata": {},
   "outputs": [
    {
     "name": "stdout",
     "output_type": "stream",
     "text": [
      "+----+---+----------+------+\n",
      "|Name|Age|Experience|Salary|\n",
      "+----+---+----------+------+\n",
      "| nik| 28|         5| 15000|\n",
      "|dany| 45|        10| 10000|\n",
      "| piu| 25|         3| 25000|\n",
      "| raj| 22|         4| 12000|\n",
      "| sam| 19|         2| 15200|\n",
      "|tiku| 26|         5| 53000|\n",
      "|null| 28|         3| 56000|\n",
      "+----+---+----------+------+\n",
      "\n"
     ]
    }
   ],
   "source": [
    "#### Subset\n",
    "df_spark.na.drop(how='any',subset=['Experience']).show()"
   ]
  },
  {
   "cell_type": "code",
   "execution_count": 12,
   "id": "78b10e4e",
   "metadata": {},
   "outputs": [
    {
     "name": "stdout",
     "output_type": "stream",
     "text": [
      "+----+----+----------+------+\n",
      "|Name| Age|Experience|Salary|\n",
      "+----+----+----------+------+\n",
      "| nik|  28|         5| 15000|\n",
      "|dany|  45|        10| 10000|\n",
      "| piu|  25|         3| 25000|\n",
      "| raj|  22|         4| 12000|\n",
      "| sam|  19|         2| 15200|\n",
      "|tiku|  26|         5| 53000|\n",
      "|sanu|null|      null| 45000|\n",
      "|null|  28|         3| 56000|\n",
      "|null|  35|      null|  null|\n",
      "+----+----+----------+------+\n",
      "\n"
     ]
    }
   ],
   "source": [
    "df_spark.show()"
   ]
  },
  {
   "cell_type": "code",
   "execution_count": 30,
   "id": "b0eb6fce",
   "metadata": {},
   "outputs": [
    {
     "name": "stdout",
     "output_type": "stream",
     "text": [
      "+-------------+----+----------+------+\n",
      "|         Name| Age|Experience|Salary|\n",
      "+-------------+----+----------+------+\n",
      "|          nik|  28|         5| 15000|\n",
      "|         dany|  45|        10| 10000|\n",
      "|          piu|  25|         3| 25000|\n",
      "|          raj|  22|         4| 12000|\n",
      "|          sam|  19|         2| 15200|\n",
      "|         tiku|  26|         5| 53000|\n",
      "|         sanu|null|      null| 45000|\n",
      "|Missing Value|  28|         3| 56000|\n",
      "|Missing Value|  35|      null|  null|\n",
      "+-------------+----+----------+------+\n",
      "\n"
     ]
    }
   ],
   "source": [
    "#### Fill the missing value\n",
    "\n",
    "df_spark.na.fill('Missing Value').show()"
   ]
  },
  {
   "cell_type": "code",
   "execution_count": 31,
   "id": "c0561c32",
   "metadata": {},
   "outputs": [
    {
     "name": "stdout",
     "output_type": "stream",
     "text": [
      "+----+----+----------+------+\n",
      "|Name| Age|Experience|Salary|\n",
      "+----+----+----------+------+\n",
      "| nik|  28|         5| 15000|\n",
      "|dany|  45|        10| 10000|\n",
      "| piu|  25|         3| 25000|\n",
      "| raj|  22|         4| 12000|\n",
      "| sam|  19|         2| 15200|\n",
      "|tiku|  26|         5| 53000|\n",
      "|sanu|null|      null| 45000|\n",
      "|null|  28|         3| 56000|\n",
      "|null|  35|      null|  null|\n",
      "+----+----+----------+------+\n",
      "\n"
     ]
    }
   ],
   "source": [
    "df_spark.show()"
   ]
  },
  {
   "cell_type": "code",
   "execution_count": 32,
   "id": "01ee4ff7",
   "metadata": {},
   "outputs": [],
   "source": [
    "from pyspark.ml.feature import Imputer\n",
    "\n",
    "imputer = Imputer(inputCols=['Age', 'Experience', 'Salary'],\n",
    "                 outputCols=[\"{}_imputed\".format(c) for c in ['Age','Experience', 'Salary']]\n",
    "                 ).setStrategy('mean')"
   ]
  },
  {
   "cell_type": "code",
   "execution_count": 33,
   "id": "7f0f0fab",
   "metadata": {},
   "outputs": [
    {
     "name": "stdout",
     "output_type": "stream",
     "text": [
      "+----+----+----------+------+-----------+------------------+--------------+\n",
      "|Name| Age|Experience|Salary|Age_imputed|Experience_imputed|Salary_imputed|\n",
      "+----+----+----------+------+-----------+------------------+--------------+\n",
      "| nik|  28|         5| 15000|         28|                 5|         15000|\n",
      "|dany|  45|        10| 10000|         45|                10|         10000|\n",
      "| piu|  25|         3| 25000|         25|                 3|         25000|\n",
      "| raj|  22|         4| 12000|         22|                 4|         12000|\n",
      "| sam|  19|         2| 15200|         19|                 2|         15200|\n",
      "|tiku|  26|         5| 53000|         26|                 5|         53000|\n",
      "|sanu|null|      null| 45000|         28|                 4|         45000|\n",
      "|null|  28|         3| 56000|         28|                 3|         56000|\n",
      "|null|  35|      null|  null|         35|                 4|         28900|\n",
      "+----+----+----------+------+-----------+------------------+--------------+\n",
      "\n"
     ]
    }
   ],
   "source": [
    "## ADD imputation cols to df\n",
    "\n",
    "imputer.fit(df_spark).transform(df_spark).show()"
   ]
  },
  {
   "cell_type": "code",
   "execution_count": null,
   "id": "9ba4ca10",
   "metadata": {},
   "outputs": [],
   "source": []
  }
 ],
 "metadata": {
  "kernelspec": {
   "display_name": "Python 3 (ipykernel)",
   "language": "python",
   "name": "python3"
  },
  "language_info": {
   "codemirror_mode": {
    "name": "ipython",
    "version": 3
   },
   "file_extension": ".py",
   "mimetype": "text/x-python",
   "name": "python",
   "nbconvert_exporter": "python",
   "pygments_lexer": "ipython3",
   "version": "3.8.0"
  }
 },
 "nbformat": 4,
 "nbformat_minor": 5
}

{
 "cells": [
  {
   "cell_type": "code",
   "execution_count": 1,
   "id": "9456154a",
   "metadata": {},
   "outputs": [
    {
     "name": "stderr",
     "output_type": "stream",
     "text": [
      "Setting default log level to \"WARN\".\n",
      "To adjust logging level use sc.setLogLevel(newLevel). For SparkR, use setLogLevel(newLevel).\n"
     ]
    },
    {
     "name": "stdout",
     "output_type": "stream",
     "text": [
      "23/01/06 15:13:40 WARN NativeCodeLoader: Unable to load native-hadoop library for your platform... using builtin-java classes where applicable\n",
      "23/01/06 15:13:41 WARN Utils: Service 'SparkUI' could not bind on port 4040. Attempting port 4041.\n",
      "23/01/06 15:13:41 WARN Utils: Service 'SparkUI' could not bind on port 4041. Attempting port 4042.\n"
     ]
    }
   ],
   "source": [
    "from pyspark.sql import SparkSession\n",
    "spark=SparkSession.builder.appName('Missing').getOrCreate()"
   ]
  },
  {
   "cell_type": "code",
   "execution_count": 4,
   "id": "2de5f319",
   "metadata": {},
   "outputs": [],
   "source": [
    "# read the Dataset\n",
    "\n",
    "Training=spark.read.csv('test3.csv',header=True,inferSchema=True)"
   ]
  },
  {
   "cell_type": "code",
   "execution_count": 5,
   "id": "f3d64d5a",
   "metadata": {},
   "outputs": [
    {
     "name": "stdout",
     "output_type": "stream",
     "text": [
      "+----+---+----------+------+\n",
      "|Name|Age|Experience|Salary|\n",
      "+----+---+----------+------+\n",
      "| nik| 28|         5| 15000|\n",
      "|dany| 45|        10| 10000|\n",
      "| piu| 25|         3| 25000|\n",
      "| raj| 22|         4| 12000|\n",
      "| sam| 19|         2| 15200|\n",
      "|tiku| 26|         5| 53000|\n",
      "|sanu| 29|         6| 45000|\n",
      "+----+---+----------+------+\n",
      "\n"
     ]
    }
   ],
   "source": [
    "Training.show()"
   ]
  },
  {
   "cell_type": "code",
   "execution_count": 7,
   "id": "ed245bd1",
   "metadata": {},
   "outputs": [
    {
     "name": "stdout",
     "output_type": "stream",
     "text": [
      "root\n",
      " |-- Name: string (nullable = true)\n",
      " |-- Age: integer (nullable = true)\n",
      " |-- Experience: integer (nullable = true)\n",
      " |-- Salary: integer (nullable = true)\n",
      "\n"
     ]
    }
   ],
   "source": [
    "Training.printSchema()"
   ]
  },
  {
   "cell_type": "code",
   "execution_count": 8,
   "id": "447b68e6",
   "metadata": {},
   "outputs": [
    {
     "data": {
      "text/plain": [
       "['Name', 'Age', 'Experience', 'Salary']"
      ]
     },
     "execution_count": 8,
     "metadata": {},
     "output_type": "execute_result"
    }
   ],
   "source": [
    "Training.columns"
   ]
  },
  {
   "cell_type": "code",
   "execution_count": 9,
   "id": "3fbc6264",
   "metadata": {},
   "outputs": [],
   "source": [
    "###[Age,Experience]---->new feature----->independent feature"
   ]
  },
  {
   "cell_type": "code",
   "execution_count": 12,
   "id": "da56a918",
   "metadata": {},
   "outputs": [],
   "source": [
    "from pyspark.ml.feature import VectorAssembler\n",
    "featureAssembler=VectorAssembler(inputCols=['Age','Experience'],outputCol='Independent Feature')"
   ]
  },
  {
   "cell_type": "code",
   "execution_count": 13,
   "id": "60536ffa",
   "metadata": {},
   "outputs": [],
   "source": [
    "output=featureAssembler.transform(Training)"
   ]
  },
  {
   "cell_type": "code",
   "execution_count": 15,
   "id": "7309e526",
   "metadata": {},
   "outputs": [
    {
     "name": "stdout",
     "output_type": "stream",
     "text": [
      "+----+---+----------+------+-------------------+\n",
      "|Name|Age|Experience|Salary|Independent Feature|\n",
      "+----+---+----------+------+-------------------+\n",
      "| nik| 28|         5| 15000|         [28.0,5.0]|\n",
      "|dany| 45|        10| 10000|        [45.0,10.0]|\n",
      "| piu| 25|         3| 25000|         [25.0,3.0]|\n",
      "| raj| 22|         4| 12000|         [22.0,4.0]|\n",
      "| sam| 19|         2| 15200|         [19.0,2.0]|\n",
      "|tiku| 26|         5| 53000|         [26.0,5.0]|\n",
      "|sanu| 29|         6| 45000|         [29.0,6.0]|\n",
      "+----+---+----------+------+-------------------+\n",
      "\n"
     ]
    }
   ],
   "source": [
    "output.show()"
   ]
  },
  {
   "cell_type": "code",
   "execution_count": 16,
   "id": "0570057b",
   "metadata": {},
   "outputs": [
    {
     "data": {
      "text/plain": [
       "['Name', 'Age', 'Experience', 'Salary', 'Independent Feature']"
      ]
     },
     "execution_count": 16,
     "metadata": {},
     "output_type": "execute_result"
    }
   ],
   "source": [
    "output.columns"
   ]
  },
  {
   "cell_type": "code",
   "execution_count": 17,
   "id": "4aae5328",
   "metadata": {},
   "outputs": [],
   "source": [
    "finalized_data=output.select('Independent Feature','Salary')"
   ]
  },
  {
   "cell_type": "code",
   "execution_count": 18,
   "id": "84662d97",
   "metadata": {},
   "outputs": [
    {
     "name": "stdout",
     "output_type": "stream",
     "text": [
      "+-------------------+------+\n",
      "|Independent Feature|Salary|\n",
      "+-------------------+------+\n",
      "|         [28.0,5.0]| 15000|\n",
      "|        [45.0,10.0]| 10000|\n",
      "|         [25.0,3.0]| 25000|\n",
      "|         [22.0,4.0]| 12000|\n",
      "|         [19.0,2.0]| 15200|\n",
      "|         [26.0,5.0]| 53000|\n",
      "|         [29.0,6.0]| 45000|\n",
      "+-------------------+------+\n",
      "\n"
     ]
    }
   ],
   "source": [
    "finalized_data.show()"
   ]
  },
  {
   "cell_type": "code",
   "execution_count": 19,
   "id": "d3e0ecc6",
   "metadata": {},
   "outputs": [
    {
     "name": "stdout",
     "output_type": "stream",
     "text": [
      "23/01/06 15:27:53 WARN Instrumentation: [90ce7739] regParam is zero, which might cause numerical instability and overfitting.\n"
     ]
    }
   ],
   "source": [
    "from pyspark.ml.regression import LinearRegression\n",
    "train_data,test_data=finalized_data.randomSplit([0.75,0.25])\n",
    "regressor=LinearRegression(featuresCol='Independent Feature', labelCol='Salary')\n",
    "regressor=regressor.fit(train_data)"
   ]
  },
  {
   "cell_type": "code",
   "execution_count": 20,
   "id": "ab687aa3",
   "metadata": {},
   "outputs": [
    {
     "data": {
      "text/plain": [
       "DenseVector([-2857.1843, 8613.701])"
      ]
     },
     "execution_count": 20,
     "metadata": {},
     "output_type": "execute_result"
    }
   ],
   "source": [
    "# Coefficeint\n",
    "regressor.coefficients"
   ]
  },
  {
   "cell_type": "code",
   "execution_count": 21,
   "id": "cb1b970e",
   "metadata": {},
   "outputs": [
    {
     "data": {
      "text/plain": [
       "62680.26124818611"
      ]
     },
     "execution_count": 21,
     "metadata": {},
     "output_type": "execute_result"
    }
   ],
   "source": [
    "# Intercept\n",
    "regressor.intercept"
   ]
  },
  {
   "cell_type": "code",
   "execution_count": 22,
   "id": "fe8f78f9",
   "metadata": {},
   "outputs": [],
   "source": [
    "## Prediction\n",
    "pred_result=regressor.evaluate(test_data)"
   ]
  },
  {
   "cell_type": "code",
   "execution_count": 23,
   "id": "a70a78f8",
   "metadata": {},
   "outputs": [
    {
     "name": "stdout",
     "output_type": "stream",
     "text": [
      "+-------------------+------+------------------+\n",
      "|Independent Feature|Salary|        prediction|\n",
      "+-------------------+------+------------------+\n",
      "|         [28.0,5.0]| 15000|25747.605224963707|\n",
      "+-------------------+------+------------------+\n",
      "\n"
     ]
    }
   ],
   "source": [
    "pred_result.predictions.show()"
   ]
  },
  {
   "cell_type": "code",
   "execution_count": 24,
   "id": "e1bca9c4",
   "metadata": {},
   "outputs": [
    {
     "data": {
      "text/plain": [
       "(10747.605224963707, 115511018.07166716)"
      ]
     },
     "execution_count": 24,
     "metadata": {},
     "output_type": "execute_result"
    }
   ],
   "source": [
    "pred_result.meanAbsoluteError,pred_result.meanSquaredError"
   ]
  },
  {
   "cell_type": "code",
   "execution_count": null,
   "id": "76e5ca22",
   "metadata": {},
   "outputs": [],
   "source": []
  }
 ],
 "metadata": {
  "kernelspec": {
   "display_name": "Python 3 (ipykernel)",
   "language": "python",
   "name": "python3"
  },
  "language_info": {
   "codemirror_mode": {
    "name": "ipython",
    "version": 3
   },
   "file_extension": ".py",
   "mimetype": "text/x-python",
   "name": "python",
   "nbconvert_exporter": "python",
   "pygments_lexer": "ipython3",
   "version": "3.8.0"
  }
 },
 "nbformat": 4,
 "nbformat_minor": 5
}
